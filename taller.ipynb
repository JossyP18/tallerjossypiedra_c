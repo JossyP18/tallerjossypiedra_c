{
 "cells": [
  {
   "cell_type": "code",
   "execution_count": 3,
   "metadata": {},
   "outputs": [
    {
     "name": "stdout",
     "output_type": "stream",
     "text": [
      "5\n",
      "2\n",
      "20\n",
      "0.3333333333333333\n",
      "Distancia: 4.242640687119285\n"
     ]
    }
   ],
   "source": [
    "from matematicas import sumar, restar, multiplicar, dividir\n",
    "from geometria import distancia\n",
    "\n",
    "print(sumar(2,3))\n",
    "print (restar (4,2))\n",
    "print (multiplicar (4,5))\n",
    "print(dividir (2,6))\n",
    "\n",
    "print (\"Distancia:\", distancia (1,2,4,5))"
   ]
  }
 ],
 "metadata": {
  "kernelspec": {
   "display_name": "Python 3 (ipykernel)",
   "language": "python",
   "name": "python3"
  },
  "language_info": {
   "codemirror_mode": {
    "name": "ipython",
    "version": 3
   },
   "file_extension": ".py",
   "mimetype": "text/x-python",
   "name": "python",
   "nbconvert_exporter": "python",
   "pygments_lexer": "ipython3",
   "version": "3.10.8"
  },
  "orig_nbformat": 4
 },
 "nbformat": 4,
 "nbformat_minor": 2
}
